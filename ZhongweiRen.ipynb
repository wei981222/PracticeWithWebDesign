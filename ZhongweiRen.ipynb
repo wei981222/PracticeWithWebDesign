{
  "nbformat": 4,
  "nbformat_minor": 0,
  "metadata": {
    "colab": {
      "name": "ZhongweiRen.ipynb",
      "provenance": [],
      "collapsed_sections": [],
      "authorship_tag": "ABX9TyPN3433G1szKMZg7GSrhPVB",
      "include_colab_link": true
    },
    "kernelspec": {
      "name": "python3",
      "display_name": "Python 3"
    }
  },
  "cells": [
    {
      "cell_type": "markdown",
      "metadata": {
        "id": "view-in-github",
        "colab_type": "text"
      },
      "source": [
        "<a href=\"https://colab.research.google.com/github/wei981222/PracticeWithWebDesign/blob/master/ZhongweiRen.ipynb\" target=\"_parent\"><img src=\"https://colab.research.google.com/assets/colab-badge.svg\" alt=\"Open In Colab\"/></a>"
      ]
    },
    {
      "cell_type": "markdown",
      "metadata": {
        "id": "1ba74Zip6rAm",
        "colab_type": "text"
      },
      "source": [
        "# Do you like using Jupyter Notebooks?"
      ]
    },
    {
      "cell_type": "markdown",
      "metadata": {
        "id": "jHUJSBJS9Ltg",
        "colab_type": "text"
      },
      "source": [
        "Yes it is a lot of fun."
      ]
    },
    {
      "cell_type": "markdown",
      "metadata": {
        "id": "l9Cv6M9z90LL",
        "colab_type": "text"
      },
      "source": [
        "It is very interesting and not too hard to begin with."
      ]
    },
    {
      "cell_type": "markdown",
      "metadata": {
        "id": "m8ykEncx9WuF",
        "colab_type": "text"
      },
      "source": [
        "# What do you want to learn more about in Jupyter Notebooks"
      ]
    },
    {
      "cell_type": "markdown",
      "metadata": {
        "id": "tpCm_JKY9ldM",
        "colab_type": "text"
      },
      "source": [
        "I want to know how to make a visual element useing just line and lines of code."
      ]
    },
    {
      "cell_type": "markdown",
      "metadata": {
        "id": "0pRaMBls96KL",
        "colab_type": "text"
      },
      "source": [
        "I want to learn how to change font in notebooks as well."
      ]
    },
    {
      "cell_type": "markdown",
      "metadata": {
        "id": "0z98w-CD_Fg_",
        "colab_type": "text"
      },
      "source": [
        "![A painting I drew](https://raw.githubusercontent.com/wei981222/PracticeWithWebDesign/master/Images/IMG_1303.JPG)"
      ]
    }
  ]
}