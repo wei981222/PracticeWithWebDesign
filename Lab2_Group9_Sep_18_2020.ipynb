{
  "nbformat": 4,
  "nbformat_minor": 0,
  "metadata": {
    "colab": {
      "name": "Lab2 Group9 Sep 18 2020",
      "provenance": [],
      "collapsed_sections": [],
      "include_colab_link": true
    },
    "kernelspec": {
      "name": "python3",
      "display_name": "Python 3"
    }
  },
  "cells": [
    {
      "cell_type": "markdown",
      "metadata": {
        "id": "view-in-github",
        "colab_type": "text"
      },
      "source": [
        "<a href=\"https://colab.research.google.com/github/wei981222/PracticeWithWebDesign/blob/master/Lab2_Group9_Sep_18_2020.ipynb\" target=\"_parent\"><img src=\"https://colab.research.google.com/assets/colab-badge.svg\" alt=\"Open In Colab\"/></a>"
      ]
    },
    {
      "cell_type": "markdown",
      "metadata": {
        "id": "6JgrRYtyWUTc",
        "colab_type": "text"
      },
      "source": [
        "# Ten Usability Heuristics\n",
        "\n",
        "### Developed by Jakob Nielsen"
      ]
    },
    {
      "cell_type": "markdown",
      "metadata": {
        "id": "ep30Q_iPWdnT",
        "colab_type": "text"
      },
      "source": [
        "For our lab, we will be evaluating the ten heuristics using the following webpage: \n",
        "\n",
        "-https://www.amazon.com"
      ]
    },
    {
      "cell_type": "markdown",
      "metadata": {
        "id": "p1w1Wmt5WuFD",
        "colab_type": "text"
      },
      "source": [
        "### 1. Visibility of system status\n",
        "The system should always keep users informed about what is going on, through appropriate feedback within reasonable time.\n",
        "\n",
        "![visibility of system status](https://raw.githubusercontent.com/mbz5165/WebDesign/master/ImagesForLab2/%E6%88%AA%E5%B1%8F2020-09-17%20%E4%B8%8B%E5%8D%8810.16.38.png)\n",
        "\n",
        "This screenshot was taken when my mouse is over \"Hello, Sign in\" and \"Account & Lists\". The rectangle now has a thin white frame around it, indicating that this is able to be clicked. In addition, A lot more options show up under it which provide the viewer more and further information that they need if they are going to click them. The system now is providing the users direction and feedback after they put their mouse over something that can be clicked. "
      ]
    },
    {
      "cell_type": "markdown",
      "metadata": {
        "id": "gL-x1q02W1Vk",
        "colab_type": "text"
      },
      "source": [
        "### 2. Match between system and the real world\n",
        "The system should speak the users' language, with words, phrases and concepts familiar to the user, rather than system-oriented terms. Follow real-world conventions, making information appear in a natural and logical order.\n",
        "\n",
        "![Match between system and the real world](https://raw.githubusercontent.com/mbz5165/WebDesign/master/ImagesForLab2/%232.png)\n",
        "\n",
        "This screenshot was taken after I added an airpods into the Amazon shopping cart. This idea comes from people putting the things that they want to buy in the shopping cart in the real world. On the computer, this is not actually a cart, but it uses this term to refer that here is the item that the user just decided to buy. At this point, there may be some system-oriented terms to describe the function of this, however, facing users, \"shopping cart\" is the closest concept in real world. \n"
      ]
    },
    {
      "cell_type": "markdown",
      "metadata": {
        "id": "p9WB5-rtZd9I",
        "colab_type": "text"
      },
      "source": [
        "### 3. User control and freedom\n",
        "Users often choose system functions by mistake and will need a clearly marked \"emergency exit\" to leave the unwanted state without having to go through an extended dialogue. Support undo and redo.\n",
        "\n",
        "![User control and freedom](https://raw.githubusercontent.com/mbz5165/WebDesign/master/ImagesForLab2/%233.png)\n",
        "\n",
        "This button locates at the upper left cornor on the web page. It is not only the main logo, but also it can be clicked and users will be directed to home page again. During the using process, users can search the items that they are interested in and get into the link of a specific product. When they realize that this is not what they want or they search the wrong item since the beginning, thye don't have to back up step by step. By clicking this button, they can go back to the very beginning and start again. \n",
        "\n"
      ]
    },
    {
      "cell_type": "markdown",
      "metadata": {
        "id": "lX7j0pZ8Zedg",
        "colab_type": "text"
      },
      "source": [
        "### 4. Consistency and standards\n",
        "Users should not have to wonder whether different words, situations, or actions mean the same thing. Follow platform conventions.\n",
        "\n",
        "![Consistency and standards](https://raw.githubusercontent.com/mbz5165/WebDesign/master/ImagesForLab2/%234.png)\n",
        "\n",
        "This locates at the right side of the web page when the users begin searching for items. As most of the online shopping users know, there will be filter options for accurately finding what they want and it is usually located at the right side and the left side is used to look at different products. Amazon keeps it consistent and continues this method so it does not confuse the users. "
      ]
    },
    {
      "cell_type": "markdown",
      "metadata": {
        "id": "ER6ArHdmZfSI",
        "colab_type": "text"
      },
      "source": [
        "### 5. Error prevention\n",
        "Even better than good error messages is a careful design which prevents a problem from occurring in the first place. Either eliminate error-prone conditions or check for them and present users with a confirmation option before they commit to the action.\n",
        "\n",
        "![Error prevention](https://github.com/ntyen110/ISTwebdes/blob/master/Images/Screen%20Shot%202020-09-16%20at%2011.51.11%20AM.png?raw=true)\n",
        "\n",
        "This is a window you see when the user enters the wrong information for their credit card. The feed back from amazon is stated in red text and the exclaimation mark stating that there is a problem. The information that the user needs to pay attention to is also highlighted red. This is very effective on helping the user to be able to notice and fix their mistakes in order to succesfully complete a transaction when buying products off amazon."
      ]
    },
    {
      "cell_type": "markdown",
      "metadata": {
        "id": "9M3cqXkLZf7B",
        "colab_type": "text"
      },
      "source": [
        "### 6. Recognition rather than recall\n",
        "Error messages should be expressed in plain language (no codes), precisely indicate the problem, and constructively suggest a solution.\n",
        "\n",
        "![Recognition rather than recall](https://github.com/ntyen110/ISTwebdes/blob/master/Images/Screen%20Shot%202020-09-16%20at%2011.48.30%20AM.png?raw=true)\n",
        "\n",
        "The image above shows the list of personal information that user's account has and can be editable. This is stated with icons/ images refering to the content inside of each list. This is very effective and straight forward for the user to recognize what they need and the information groups that it belongs to. This shorten the time that the user needs to recall their memory aswell as find where that option is."
      ]
    },
    {
      "cell_type": "markdown",
      "metadata": {
        "id": "B4xOtXMWZgfp",
        "colab_type": "text"
      },
      "source": [
        "### 7. Flexibility and efficiency of use \n",
        "Accelerators -- unseen by the novice user -- may often speed up the interaction for the expert user such that the system can cater to both inexperienced and experienced users. Allow users to tailor frequent actions.\n",
        "\n",
        "![Flexibility and efficiency of use](https://github.com/ntyen110/ISTwebdes/blob/master/Images/Screen%20Shot%202020-09-16%20at%203.19.43%20PM.png?raw=true)\n",
        "\n",
        "Amazon provide quick accessable filters. The filters narrows down the options of products for the user but all the options are more consised and closer to the user's requirements. For example, when a user is searching to by a phone, there is a lot of choices regarding size, brand, color, storage, carrier, etc. But the filter have the basic options to filter out the wants that does not fit their discription and leave the choices they want on display. They can even select deal's of the day which might save them some money. This is very useful feature to have because if this is not available, all users buying products off amazon will spend plenty of time scrolling to find the one specific product they need."
      ]
    },
    {
      "cell_type": "markdown",
      "metadata": {
        "id": "F968s-f-ZhGA",
        "colab_type": "text"
      },
      "source": [
        "### 8. Aesthetic and minimalist design\n",
        "Dialogues should not contain information which is irrelevant or rarely needed. Every extra unit of information in a dialogue competes with the relevant units of information and diminishes their relative visibility.\n"
      ]
    },
    {
      "cell_type": "markdown",
      "metadata": {
        "id": "GOceD_mk_XuO",
        "colab_type": "text"
      },
      "source": [
        "![Aesthetic and minimalist design](https://raw.githubusercontent.com/wei981222/PracticeWithWebDesign/master/Images/%E5%BE%AE%E4%BF%A1%E5%9B%BE%E7%89%87_20200918111357.png)"
      ]
    },
    {
      "cell_type": "markdown",
      "metadata": {
        "id": "Ba8EmY53_bOu",
        "colab_type": "text"
      },
      "source": [
        "Amazon site did a great job on the aesthetic and minimalist design. Everything in the head section of the page is essential links to products, personal status, and web page assistants. It nailed the concept of having more useful functions rather than decorations in terms of design. \n"
      ]
    },
    {
      "cell_type": "markdown",
      "metadata": {
        "id": "WFtkqJ8wZhjx",
        "colab_type": "text"
      },
      "source": [
        "### 9.Help users recognize, diagnose, and recover from errors\n",
        "Error messages should be expressed in plain language (no codes), precisely indicate the problem, and constructively suggest a solution.\n"
      ]
    },
    {
      "cell_type": "markdown",
      "metadata": {
        "id": "kaYZHoAT_hh1",
        "colab_type": "text"
      },
      "source": [
        "![Errors](https://raw.githubusercontent.com/wei981222/PracticeWithWebDesign/master/Images/%E5%BE%AE%E4%BF%A1%E5%9B%BE%E7%89%87_20200918113113.png)"
      ]
    },
    {
      "cell_type": "markdown",
      "metadata": {
        "id": "6X2plK4o_iv5",
        "colab_type": "text"
      },
      "source": [
        "Here is a screenshot of what happened if we entered the wrong shipping address when checking out in amazon. The problem itself is clearly indicated and there is a clear suggestion of a solution."
      ]
    },
    {
      "cell_type": "markdown",
      "metadata": {
        "id": "e4LVmZPg_lrP",
        "colab_type": "text"
      },
      "source": [
        "![Errorspe](https://raw.githubusercontent.com/wei981222/PracticeWithWebDesign/master/Images/%E5%BE%AE%E4%BF%A1%E5%9B%BE%E7%89%87_20200918113155.png)"
      ]
    },
    {
      "cell_type": "markdown",
      "metadata": {
        "id": "9bpGLqCN_oHT",
        "colab_type": "text"
      },
      "source": [
        "we can tell that the direction to solve the error is very clear and plainly expressed. Besides that, just like any successful site, the error message pops up very obviously with a red indicator and red outline as well."
      ]
    },
    {
      "cell_type": "markdown",
      "metadata": {
        "id": "x8_uAFYHZifo",
        "colab_type": "text"
      },
      "source": [
        "### 10.Help and documentation\n",
        "Even though it is better if the system can be used without documentation, it may be necessary to provide help and documentation. Any such information should be easy to search, focused on the user's task, list concrete steps to be carried out, and not be too large.\n"
      ]
    },
    {
      "cell_type": "markdown",
      "metadata": {
        "id": "xyQHwqfm_rYS",
        "colab_type": "text"
      },
      "source": [
        "![Help center](https://raw.githubusercontent.com/wei981222/PracticeWithWebDesign/master/Images/%E5%BE%AE%E4%BF%A1%E5%9B%BE%E7%89%87_20200918114824.png)"
      ]
    },
    {
      "cell_type": "markdown",
      "metadata": {
        "id": "dt6qo3F3_u8x",
        "colab_type": "text"
      },
      "source": [
        "In the image above, we have a very clear and convenient help section from amazon. First thing first, it checks your system language to provide help in different languages which is very good. Then we have different categories of help and documentation. Such like problem with orders, payments, and account. They are well placed, and we have a search bar down below as well. When we type a word in the search bar, it automatically phrases it so that we can get the intentional and related result that we are looking for."
      ]
    }
  ]
}